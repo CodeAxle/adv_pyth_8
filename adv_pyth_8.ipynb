{
 "cells": [
  {
   "cell_type": "markdown",
   "id": "9f20e547",
   "metadata": {},
   "source": [
    "# 1."
   ]
  },
  {
   "cell_type": "code",
   "execution_count": 1,
   "id": "a49c873d",
   "metadata": {},
   "outputs": [],
   "source": [
    "# In Python 3.x, there are two newer user-defined exception constraints introduced that can be used when defining custom\n",
    "# exceptions. These constraints help in specifying the base classes or parent classes for user-defined exceptions. \n",
    "\n",
    "# The two constraints are:\n",
    "\n",
    "# a) Base classes for exceptions: You can specify a base class or parent class for your custom exception by inheriting from a \n",
    "#     built-in exception class or another user-defined exception. This allows your custom exception to inherit behavior and \n",
    "#     attributes from the specified base class.\n",
    "    \n",
    "# example:\n",
    "class CustomError(Exception):\n",
    "    pass\n",
    "\n",
    "# In this case, CustomError is a user-defined exception that inherits from the built-in Exception class, making it a subclass \n",
    "# of Exception."
   ]
  },
  {
   "cell_type": "code",
   "execution_count": 2,
   "id": "61103fde",
   "metadata": {},
   "outputs": [],
   "source": [
    "# b) Named exception bases: Python 3.x introduced the ability to use names as the base classes for exceptions. This means you can \n",
    "#     refer to an exception class using its name instead of directly referencing the class itself. This is particularly useful \n",
    "#     when defining custom exceptions that are based on other exceptions that may not be available at the time of definition.\n",
    "    \n",
    "# example:\n",
    "class CustomError(NameError):\n",
    "    pass   \n",
    "\n",
    "# Here, CustomError is a user-defined exception that inherits from the built-in NameError class. The use of the name NameError \n",
    "# as the base class allows for flexibility and ease of referencing."
   ]
  },
  {
   "cell_type": "markdown",
   "id": "3d014ba3",
   "metadata": {},
   "source": [
    "# 2."
   ]
  },
  {
   "cell_type": "code",
   "execution_count": 4,
   "id": "bb88918a",
   "metadata": {},
   "outputs": [
    {
     "name": "stdout",
     "output_type": "stream",
     "text": [
      "CustomError handler\n"
     ]
    }
   ],
   "source": [
    "# In Python, when a class-based exception is raised, the interpreter searches for an appropriate exception handler to handle\n",
    "# the exception. The matching of class-based exceptions to handlers is based on the inheritance hierarchy of the exception \n",
    "# classes and the order in which the handlers are defined.\n",
    "\n",
    "# Here is how the matching process works:\n",
    "\n",
    "# a) Inheritance Hierarchy: Python's exception handling mechanism follows the concept of inheritance. When an exception is raised,\n",
    "#     the interpreter checks if there is a handler for that specific exception class. If not, it moves up the inheritance chain \n",
    "#     to find a handler in the ancestor classes.\n",
    "\n",
    "# b) Order of Handler Definitions: In a try-except block, the handlers are defined in the order they appear. When an exception \n",
    "#     is raised, Python checks the handlers in the same order. The first handler whose exception class matches the raised \n",
    "#     exception or its ancestor class will be used to handle the exception.\n",
    "\n",
    "# example:\n",
    "class BaseError(Exception):\n",
    "    pass\n",
    "\n",
    "class CustomError(BaseError):\n",
    "    pass\n",
    "\n",
    "try:\n",
    "    raise CustomError(\"Something went wrong\")\n",
    "except CustomError:\n",
    "    print(\"CustomError handler\")\n",
    "except BaseError:\n",
    "    print(\"BaseError handler\")"
   ]
  },
  {
   "cell_type": "markdown",
   "id": "ffe7d7b6",
   "metadata": {},
   "source": [
    "# 3."
   ]
  },
  {
   "cell_type": "code",
   "execution_count": 5,
   "id": "c1ae223f",
   "metadata": {},
   "outputs": [
    {
     "name": "stdout",
     "output_type": "stream",
     "text": [
      "An error occurred\n",
      "{'user_id': 123, 'action': 'login'}\n"
     ]
    }
   ],
   "source": [
    "# In Python, attaching context information to exception artifacts can be crucial for debugging and understanding the cause \n",
    "#  of errors. \n",
    "    \n",
    "# Here are two common methods for attaching context information to exception artifacts:\n",
    "\n",
    "# a) Using Exception Arguments:\n",
    "# One straightforward way to attach context information is by providing informative arguments when raising an exception. \n",
    "# This can be achieved by passing relevant data as arguments to the exception class constructor. \n",
    "\n",
    "# example:\n",
    "class CustomError(Exception):\n",
    "    def __init__(self, message, context_data=None):\n",
    "        super().__init__(message)\n",
    "        self.context_data = context_data\n",
    "\n",
    "try:\n",
    "    # Some code that may raise an exception\n",
    "    raise CustomError(\"An error occurred\", context_data={\"user_id\": 123, \"action\": \"login\"})\n",
    "except CustomError as e:\n",
    "    print(e)  # Print the exception message\n",
    "    print(e.context_data)  # Access the context data"
   ]
  },
  {
   "cell_type": "code",
   "execution_count": 6,
   "id": "4a872007",
   "metadata": {},
   "outputs": [
    {
     "name": "stdout",
     "output_type": "stream",
     "text": [
      "Invalid input\n",
      "{'user_id': 123, 'action': 'login'}\n"
     ]
    }
   ],
   "source": [
    "# b) Using Exception Context Managers:\n",
    "# Python 3.6 introduced the contextlib.ContextDecorator class, which allows creating context managers that can also act as \n",
    "# exception handlers. This approach is useful for attaching context information in a clean and structured way. \n",
    "\n",
    "# example:\n",
    "from contextlib import ContextDecorator\n",
    "\n",
    "class ContextInfo(ContextDecorator):\n",
    "    def __init__(self, context_data):\n",
    "        self.context_data = context_data\n",
    "\n",
    "    def __enter__(self):\n",
    "        return self\n",
    "\n",
    "    def __exit__(self, exc_type, exc_value, traceback):\n",
    "        if exc_value is not None:\n",
    "            exc_value.context_data = self.context_data\n",
    "        return False  # Propagate the exception\n",
    "\n",
    "try:\n",
    "    with ContextInfo({\"user_id\": 123, \"action\": \"login\"}):\n",
    "        # Some code that may raise an exception\n",
    "        raise ValueError(\"Invalid input\")\n",
    "except ValueError as e:\n",
    "    print(e)  # Print the exception message\n",
    "    print(e.context_data)  # Access the context data"
   ]
  },
  {
   "cell_type": "markdown",
   "id": "242edbe5",
   "metadata": {},
   "source": [
    "# 4."
   ]
  },
  {
   "cell_type": "code",
   "execution_count": 7,
   "id": "c849d512",
   "metadata": {},
   "outputs": [
    {
     "name": "stdout",
     "output_type": "stream",
     "text": [
      "An error occurred: custom message\n"
     ]
    }
   ],
   "source": [
    "# In Python, there are several ways to specify the text of an exception object's error message. \n",
    "\n",
    "# Here are two common methods:\n",
    "\n",
    "# a) Custom Exception Classes:\n",
    "# One approach is to create custom exception classes that define their own error messages. This allows you to provide specific\n",
    "# and informative error messages tailored to different types of exceptions. \n",
    "\n",
    "# example:\n",
    "class CustomError(Exception):\n",
    "    def __init__(self, message):\n",
    "        self.message = message\n",
    "        super().__init__(self.message)\n",
    "\n",
    "try:\n",
    "    # Some code that may raise an exception\n",
    "    raise CustomError(\"An error occurred: custom message\")\n",
    "except CustomError as e:\n",
    "    print(e)  # Print the custom error message"
   ]
  },
  {
   "cell_type": "code",
   "execution_count": 8,
   "id": "9a58f5f8",
   "metadata": {},
   "outputs": [
    {
     "name": "stdout",
     "output_type": "stream",
     "text": [
      "Division by zero error: divisor=0\n"
     ]
    }
   ],
   "source": [
    "# b) Using f-strings or format() Method:\n",
    "# Another method is to use f-strings or the format() method to dynamically generate error messages with variable values. \n",
    "# This can be useful when you need to include specific information or variables in the error message. \n",
    "# example:\n",
    "try:\n",
    "    divisor = 0\n",
    "    if divisor == 0:\n",
    "        raise ValueError(f\"Division by zero error: divisor={divisor}\")\n",
    "    result = 10 / divisor\n",
    "except ValueError as e:\n",
    "    print(e)  # Print the dynamically generated error message"
   ]
  },
  {
   "cell_type": "markdown",
   "id": "4116b333",
   "metadata": {},
   "source": [
    "# 5."
   ]
  },
  {
   "cell_type": "code",
   "execution_count": 9,
   "id": "a85bb79b",
   "metadata": {},
   "outputs": [],
   "source": [
    "# String-based exceptions, where exceptions are raised using strings like raise \"SomeError\" instead of actual exception classes\n",
    "# like raise ValueError(\"Some error message\"), are no longer recommended in modern Python programming for several reasons:\n",
    "\n",
    "# a) Clarity and Readability:\n",
    "#     Using exception classes provides clearer and more readable code. When you raise a specific exception class like ValueError,\n",
    "#     it immediately conveys the type of error that occurred. On the other hand, string-based exceptions can be ambiguous and lack\n",
    "#     context about the type of error.\n",
    "\n",
    "# b) Standardization:\n",
    "#     Exception classes in Python follow a standardized hierarchy and naming convention. This makes it easier for developers \n",
    "#     to understand and handle different types of exceptions consistently across codebases. String-based exceptions do not provide\n",
    "#     this standardization and can lead to inconsistency and confusion.\n",
    "\n",
    "# c) Error Handling:\n",
    "#     Exception classes allow for more granular error handling. You can catch specific types of exceptions and handle them \n",
    "#     differently based on their types. With string-based exceptions, you would need to parse and compare strings to determine\n",
    "#     the type of error, which is error-prone and less efficient.\n",
    "\n",
    "# d) Debugging and Maintenance:\n",
    "#     Using exception classes provides better support for debugging and maintenance. IDEs and tools can recognize exception classes, \n",
    "#     provide auto-completion, and offer suggestions for handling specific exceptions. String-based exceptions lack this support,\n",
    "#     making code maintenance and debugging more challenging."
   ]
  },
  {
   "cell_type": "code",
   "execution_count": null,
   "id": "84b356bc",
   "metadata": {},
   "outputs": [],
   "source": []
  }
 ],
 "metadata": {
  "kernelspec": {
   "display_name": "Python 3 (ipykernel)",
   "language": "python",
   "name": "python3"
  },
  "language_info": {
   "codemirror_mode": {
    "name": "ipython",
    "version": 3
   },
   "file_extension": ".py",
   "mimetype": "text/x-python",
   "name": "python",
   "nbconvert_exporter": "python",
   "pygments_lexer": "ipython3",
   "version": "3.11.5"
  }
 },
 "nbformat": 4,
 "nbformat_minor": 5
}
